{
 "cells": [
  {
   "cell_type": "markdown",
   "id": "63e91c1d",
   "metadata": {},
   "source": [
    "# Ma 17"
   ]
  },
  {
   "cell_type": "code",
   "execution_count": 119,
   "id": "be629d58",
   "metadata": {
    "ExecuteTime": {
     "end_time": "2023-05-16T17:05:37.681515Z",
     "start_time": "2023-05-16T17:05:37.650252Z"
    }
   },
   "outputs": [],
   "source": [
    "import numpy as np\n",
    "import pandas as pd\n",
    "import matplotlib.pyplot as plt\n",
    "from scipy import constants\n",
    "import sympy as sym\n",
    "from sympy import sympify\n",
    "import scipy.stats as stats"
   ]
  },
  {
   "cell_type": "code",
   "execution_count": 120,
   "id": "44facbe2",
   "metadata": {
    "ExecuteTime": {
     "end_time": "2023-05-16T17:05:37.853811Z",
     "start_time": "2023-05-16T17:05:37.837799Z"
    }
   },
   "outputs": [],
   "source": [
    "#Prints a value with its error in scientific notation up to its 2 decimal\n",
    "def print_scientific(value,error):\n",
    "    \"\"\"\n",
    "    value (float) : the value\n",
    "    error (float) : the error\n",
    "    \n",
    "    Returns:\n",
    "        (string) : formatted string with the value an error\n",
    "    \"\"\"\n",
    "    base10_error=int(np.floor(np.log10(error)))\n",
    "    base10_value=int(np.floor(np.log10(np.abs(value))))\n",
    "    digits=int(base10_value-base10_error+1)\n",
    "    base=10**base10_value\n",
    "    string=f\"({value/base:.{digits}f} ± {error/base:.{digits}f})·10^{base10_value}\"\n",
    "    return string"
   ]
  },
  {
   "cell_type": "code",
   "execution_count": 121,
   "id": "f2e2bfb4",
   "metadata": {
    "ExecuteTime": {
     "end_time": "2023-05-16T17:05:38.042075Z",
     "start_time": "2023-05-16T17:05:38.010356Z"
    }
   },
   "outputs": [],
   "source": [
    "def compute_error(expression, variables, values, errors):\n",
    "    \"\"\"\n",
    "    expression (string) : expression you used to compute the value\n",
    "    variables  (list of strings) : list of variables that are in the expression in string form\n",
    "    values     (list of float)   : list of values that go in the expression\n",
    "    errors     (list of float)   : list of errors for each value\n",
    "    \n",
    "    Returns: (result, uncertainty) : tuple with the desired value and its uncertainty\n",
    "    \n",
    "    !! ATTENTION: Length variables = length values = length errors\n",
    "    \n",
    "    An example: \n",
    "    >   expression=\"x**2+y\"\n",
    "    >   var=[\"x\",\"y\"]; values=[2,1]; errors=[4,2]\n",
    "    >   compute_error(expression, var, values, errors)\n",
    "    \"\"\"\n",
    "    #Make variables and expression symbolic\n",
    "    expression=sym.sympify(expression)\n",
    "    variables=sym.symbols(variables)\n",
    "    \n",
    "    #To store coefficients\n",
    "    coefficients=[]\n",
    "    \n",
    "    for index,variable in enumerate(\n",
    "        variables):\n",
    "        dexpression=sym.diff(expression, variable) #Differentiates expression\n",
    "        coefficient=dexpression.subs(list(zip(variables, values))) #substitution\n",
    "        coefficients.append(errors[index]*np.float64(coefficient)) #multiply coefficient times error\n",
    "    \n",
    "    uncertainty=np.sqrt(np.sum(np.array(coefficients)**2))\n",
    "    result=np.float64(expression.subs(list(zip(variables, values))))\n",
    "\n",
    "    return result,uncertainty\n",
    "    "
   ]
  },
  {
   "cell_type": "markdown",
   "id": "3608b51f",
   "metadata": {},
   "source": [
    "### Computing the width in air"
   ]
  },
  {
   "cell_type": "code",
   "execution_count": 122,
   "id": "b86dc704",
   "metadata": {
    "ExecuteTime": {
     "end_time": "2023-05-16T17:05:38.354155Z",
     "start_time": "2023-05-16T17:05:38.338968Z"
    }
   },
   "outputs": [],
   "source": [
    "#All units in SI\n",
    "K_R=1664"
   ]
  },
  {
   "cell_type": "code",
   "execution_count": 123,
   "id": "71146d9a",
   "metadata": {
    "ExecuteTime": {
     "end_time": "2023-05-16T17:05:38.854584Z",
     "start_time": "2023-05-16T17:05:38.510429Z"
    },
    "scrolled": true
   },
   "outputs": [
    {
     "data": {
      "text/plain": [
       "<AxesSubplot:xlabel='Time (s)'>"
      ]
     },
     "execution_count": 123,
     "metadata": {},
     "output_type": "execute_result"
    },
    {
     "data": {
      "image/png": "[encoded data removed]",
      "text/plain": [
       "<Figure size 432x288 with 1 Axes>"
      ]
     },
     "metadata": {
      "needs_background": "light"
     },
     "output_type": "display_data"
    }
   ],
   "source": [
    "#Load dataframe\n",
    "df=df=pd.read_csv(f\"data/eigen_air.csv\", sep=\";\")\n",
    "frequency=np.array(df[\"Frequency\"])\n",
    "time=np.array(df[\"Time (s)\"])\n",
    "df.plot(x=\"Time (s)\", y=\"Frequency\")"
   ]
  },
  {
   "cell_type": "code",
   "execution_count": 124,
   "id": "90b9e5e6",
   "metadata": {
    "ExecuteTime": {
     "end_time": "2023-05-16T17:05:39.089574Z",
     "start_time": "2023-05-16T17:05:38.854584Z"
    }
   },
   "outputs": [
    {
     "data": {
      "text/plain": [
       "<matplotlib.collections.PolyCollection at 0x28a4eba35e0>"
      ]
     },
     "execution_count": 124,
     "metadata": {},
     "output_type": "execute_result"
    },
    {
     "data": {
      "image/png": "[encoded data removed]",
      "text/plain": [
       "<Figure size 432x288 with 1 Axes>"
      ]
     },
     "metadata": {
      "needs_background": "light"
     },
     "output_type": "display_data"
    }
   ],
   "source": [
    "diff=np.max(frequency)-np.min(frequency)\n",
    "fig, axis=plt.subplots(1,1,figsize=(6,4))\n",
    "axis.plot(time, frequency)\n",
    "axis.set_xlabel(\"Time (s)\"); axis.set_ylabel(\"Frequency (Hz)\")\n",
    "axis.fill_between(time, np.min(frequency)-diff*0.05, np.max(frequency)+diff*0.05, where=time<=300, alpha=0.2, color=\"cyan\",\n",
    "                 label=\"Air measurements\")\n",
    "axis.fill_between(time, np.min(frequency)-diff*0.05, np.max(frequency)+diff*0.05, where=time>=400, alpha=0.2, color=\"cyan\",\n",
    "                 label=\"Air measurements\")\n"
   ]
  },
  {
   "cell_type": "code",
   "execution_count": 125,
   "id": "35c48605",
   "metadata": {
    "ExecuteTime": {
     "end_time": "2023-05-16T17:05:39.105195Z",
     "start_time": "2023-05-16T17:05:39.089574Z"
    }
   },
   "outputs": [],
   "source": [
    "#Take from 0 to 300s\n",
    "freq_air=frequency[time<=300]\n",
    "eigenfreq_air=np.mean(freq_air)\n",
    "stdfreq_air=np.std(freq_air)"
   ]
  },
  {
   "cell_type": "code",
   "execution_count": 126,
   "id": "9f0df83f",
   "metadata": {
    "ExecuteTime": {
     "end_time": "2023-05-16T17:05:39.120821Z",
     "start_time": "2023-05-16T17:05:39.105195Z"
    }
   },
   "outputs": [
    {
     "name": "stdout",
     "output_type": "stream",
     "text": [
      "The eigenfrequency in air is (5.004918717 ± 0.000000083)·10^6 Hz\n"
     ]
    }
   ],
   "source": [
    "print(f\"The eigenfrequency in air is \"+print_scientific(eigenfreq_air,stdfreq_air)+\" Hz\")"
   ]
  },
  {
   "cell_type": "code",
   "execution_count": 127,
   "id": "31d4cfc7",
   "metadata": {
    "ExecuteTime": {
     "end_time": "2023-05-16T17:05:39.277425Z",
     "start_time": "2023-05-16T17:05:39.230215Z"
    }
   },
   "outputs": [],
   "source": [
    "expression=f\"K_R/f_0\"\n",
    "#Set error as 1Hz because of instrumental constraints\n",
    "var=[\"K_R\",\"f_0\"]; values=[K_R, eigenfreq_air]; errors=[1,1]\n",
    "d_q, stdd_q=compute_error(expression,var,values,errors)"
   ]
  },
  {
   "cell_type": "code",
   "execution_count": 128,
   "id": "207c761e",
   "metadata": {
    "ExecuteTime": {
     "end_time": "2023-05-16T17:05:39.434125Z",
     "start_time": "2023-05-16T17:05:39.418086Z"
    }
   },
   "outputs": [
    {
     "name": "stdout",
     "output_type": "stream",
     "text": [
      "The thickness is (3.3247 ± 0.0020)·10^-4 m\n"
     ]
    }
   ],
   "source": [
    "print(f\"The thickness is \"+print_scientific(d_q,stdd_q)+\" m\")"
   ]
  },
  {
   "cell_type": "markdown",
   "id": "715cd718",
   "metadata": {},
   "source": [
    "Around a tenth of a milimiter, looks good."
   ]
  },
  {
   "cell_type": "markdown",
   "id": "d843d4a7",
   "metadata": {},
   "source": [
    "### Computing frequency difference"
   ]
  },
  {
   "cell_type": "markdown",
   "id": "6ac31fdb",
   "metadata": {},
   "source": [
    "There are two ways we can do this. First just roughly computing the difference. And then secondly taking into account the apparent frequency drift."
   ]
  },
  {
   "cell_type": "code",
   "execution_count": 129,
   "id": "96bdd3f9",
   "metadata": {
    "ExecuteTime": {
     "end_time": "2023-05-16T17:05:40.562022Z",
     "start_time": "2023-05-16T17:05:40.342822Z"
    },
    "code_folding": []
   },
   "outputs": [
    {
     "data": {
      "text/plain": [
       "<AxesSubplot:xlabel='Time (s)'>"
      ]
     },
     "execution_count": 129,
     "metadata": {},
     "output_type": "execute_result"
    },
    {
     "data": {
      "image/png": "[encoded data removed]",
      "text/plain": [
       "<Figure size 432x288 with 1 Axes>"
      ]
     },
     "metadata": {
      "needs_background": "light"
     },
     "output_type": "display_data"
    }
   ],
   "source": [
    "#Show graph\n",
    "df=df=pd.read_csv(f\"data/eigen_air.csv\", sep=\";\")\n",
    "df.plot(x=\"Time (s)\", y=\"Frequency\")"
   ]
  },
  {
   "cell_type": "markdown",
   "id": "a2e4b4c4",
   "metadata": {},
   "source": [
    "#### Rough eye approximation"
   ]
  },
  {
   "cell_type": "code",
   "execution_count": 130,
   "id": "d4680e51",
   "metadata": {
    "ExecuteTime": {
     "end_time": "2023-05-16T17:05:40.827754Z",
     "start_time": "2023-05-16T17:05:40.796376Z"
    }
   },
   "outputs": [],
   "source": [
    "#Take from 400 to end\n",
    "freq_eth=frequency[time>=400]\n",
    "stdfreq_eth=np.std(freq_eth)\n",
    "eigenfreq_eth=np.mean(freq_eth)"
   ]
  },
  {
   "cell_type": "code",
   "execution_count": 131,
   "id": "f62678bc",
   "metadata": {
    "ExecuteTime": {
     "end_time": "2023-05-16T17:05:41.197180Z",
     "start_time": "2023-05-16T17:05:41.009418Z"
    }
   },
   "outputs": [
    {
     "data": {
      "text/plain": [
       "[<matplotlib.lines.Line2D at 0x28a4ec1b400>]"
      ]
     },
     "execution_count": 131,
     "metadata": {},
     "output_type": "execute_result"
    },
    {
     "data": {
      "image/png": "[encoded data removed]",
      "text/plain": [
       "<Figure size 432x288 with 1 Axes>"
      ]
     },
     "metadata": {
      "needs_background": "light"
     },
     "output_type": "display_data"
    }
   ],
   "source": [
    "plt.plot(time[time>=400], freq_eth)"
   ]
  },
  {
   "cell_type": "code",
   "execution_count": 132,
   "id": "99e630bf",
   "metadata": {
    "ExecuteTime": {
     "end_time": "2023-05-16T17:05:41.228858Z",
     "start_time": "2023-05-16T17:05:41.212784Z"
    }
   },
   "outputs": [
    {
     "name": "stdout",
     "output_type": "stream",
     "text": [
      "The eigenfrequency in ethanol is (5.004918717 ± 0.000000083)·10^6 Hz\n"
     ]
    }
   ],
   "source": [
    "print(f\"The eigenfrequency in ethanol is \"+print_scientific(eigenfreq_air,stdfreq_air)+\" Hz\")"
   ]
  },
  {
   "cell_type": "code",
   "execution_count": 133,
   "id": "359ec7f7",
   "metadata": {
    "ExecuteTime": {
     "end_time": "2023-05-16T17:05:41.416694Z",
     "start_time": "2023-05-16T17:05:41.401032Z"
    }
   },
   "outputs": [
    {
     "name": "stdout",
     "output_type": "stream",
     "text": [
      "The delta f in ethanol is (7.071 ± 0.038)·10^2 Hz\n"
     ]
    }
   ],
   "source": [
    "delta_freq=eigenfreq_air-eigenfreq_eth\n",
    "stddelta_freq=np.sqrt(stdfreq_eth**2+stdfreq_air**2+1)\n",
    "print(f\"The delta f in ethanol is \"+print_scientific(delta_freq,stddelta_freq)+\" Hz\")"
   ]
  },
  {
   "cell_type": "markdown",
   "id": "eb0b273f",
   "metadata": {},
   "source": [
    "#### Linear approximation"
   ]
  },
  {
   "cell_type": "code",
   "execution_count": 134,
   "id": "50d7a510",
   "metadata": {
    "ExecuteTime": {
     "end_time": "2023-05-16T17:05:41.761553Z",
     "start_time": "2023-05-16T17:05:41.745725Z"
    }
   },
   "outputs": [],
   "source": [
    "#Take from 400 to end\n",
    "freq_eth=frequency[time>=400]\n",
    "time_eth=time[time>=400]"
   ]
  },
  {
   "cell_type": "code",
   "execution_count": 135,
   "id": "f283c097",
   "metadata": {
    "ExecuteTime": {
     "end_time": "2023-05-16T17:05:41.949977Z",
     "start_time": "2023-05-16T17:05:41.918426Z"
    }
   },
   "outputs": [],
   "source": [
    "linregression= stats.linregress(time_eth, freq_eth)\n",
    "linregression_eth=linregression"
   ]
  },
  {
   "cell_type": "code",
   "execution_count": 156,
   "id": "487c6ef3",
   "metadata": {
    "ExecuteTime": {
     "end_time": "2023-05-16T17:23:57.341804Z",
     "start_time": "2023-05-16T17:23:57.326166Z"
    }
   },
   "outputs": [
    {
     "data": {
      "text/plain": [
       "1062.72"
      ]
     },
     "execution_count": 156,
     "metadata": {},
     "output_type": "execute_result"
    }
   ],
   "source": [
    "1.23e-2*3600*24"
   ]
  },
  {
   "cell_type": "code",
   "execution_count": 136,
   "id": "d67d19c0",
   "metadata": {
    "ExecuteTime": {
     "end_time": "2023-05-16T17:05:42.121131Z",
     "start_time": "2023-05-16T17:05:42.105975Z"
    }
   },
   "outputs": [
    {
     "name": "stdout",
     "output_type": "stream",
     "text": [
      "We obtain a regression with slope (4.740 ± 0.081)·10^-2 s^-2\n",
      "and an intercept of (5.00418643 ± 0.00000044)·10^6 Hz\n",
      "With a p-value of 1.61E-144<<0.05, for the null hypothesis: the slope is 0\n",
      "Finally the r^2 score is 0.97\n"
     ]
    }
   ],
   "source": [
    "print(f\"We obtain a regression with slope \"+print_scientific(linregression.slope,linregression.stderr)+\" s^-2\")\n",
    "print(f\"and an intercept of \"+print_scientific(linregression.intercept,linregression.intercept_stderr)+\" Hz\")\n",
    "print(f\"With a p-value of {linregression.pvalue:.2E}<<0.05, for the null hypothesis: the slope is 0\")\n",
    "print(f\"Finally the r^2 score is {linregression.rvalue:.2f}\")"
   ]
  },
  {
   "cell_type": "code",
   "execution_count": 137,
   "id": "439c8e3f",
   "metadata": {
    "ExecuteTime": {
     "end_time": "2023-05-16T17:05:42.639893Z",
     "start_time": "2023-05-16T17:05:42.293028Z"
    },
    "code_folding": [],
    "scrolled": true
   },
   "outputs": [
    {
     "data": {
      "image/png": "[encoded data removed]",
      "text/plain": [
       "<Figure size 432x288 with 1 Axes>"
      ]
     },
     "metadata": {
      "needs_background": "light"
     },
     "output_type": "display_data"
    }
   ],
   "source": [
    "#Draw the graph with uncertainty in the slope\n",
    "X=time_eth; Y=time_eth*linregression.slope+linregression.intercept;\n",
    "uncertainty_regression=np.sqrt((X*linregression.stderr)**2+linregression.intercept_stderr**2)\n",
    "plt.scatter(time_eth, freq_eth,s=5, label=\"Data points\")\n",
    "plt.plot(X,Y, color=\"purple\", alpha=0.8, label=f\"$y={linregression.slope/1e-2:.3}\\cdot10^\"+\"{-2}\"+f\"x+{linregression.intercept/1e6:.8}\\cdot 10^6$\")\n",
    "plt.plot(X,uncertainty_regression+Y, color=\"purple\", alpha=0.2)\n",
    "plt.plot(X,Y-uncertainty_regression, color=\"purple\", alpha=0.2)\n",
    "plt.fill_between(X, Y+uncertainty_regression, Y-uncertainty_regression,\n",
    "                color=\"purple\", alpha=0.2)\n",
    "plt.legend()\n",
    "plt.xlabel(\"Time (s)\"); plt.ylabel(\"Frequency (Hz)\")\n",
    "plt.tight_layout()"
   ]
  },
  {
   "cell_type": "markdown",
   "id": "3a431132",
   "metadata": {
    "ExecuteTime": {
     "end_time": "2023-05-13T23:40:54.617938Z",
     "start_time": "2023-05-13T23:40:54.613924Z"
    }
   },
   "source": [
    "The high r^2 score gives validity to the idea that there is a linear relation between frequency and time while the low p-value tells us that if that is the case, then the slope is certainly not 0. That is, there is frequency drift."
   ]
  },
  {
   "cell_type": "markdown",
   "id": "96f86868",
   "metadata": {},
   "source": [
    "Following this we can compute the expected frequency when the crystal is submerged. Let's say at the minimum of the graph."
   ]
  },
  {
   "cell_type": "code",
   "execution_count": 138,
   "id": "a8afe58e",
   "metadata": {
    "ExecuteTime": {
     "end_time": "2023-05-16T17:05:42.890067Z",
     "start_time": "2023-05-16T17:05:42.858669Z"
    }
   },
   "outputs": [],
   "source": [
    "min_time=np.array(df[\"Time (s)\"])[frequency==np.min(frequency)]\n",
    "freq_ethregression=linregression.slope*min_time[0]+linregression.intercept\n",
    "stdfreq_ethregression=np.sqrt((min_time*linregression.stderr)**2+linregression.intercept_stderr**2)"
   ]
  },
  {
   "cell_type": "code",
   "execution_count": 139,
   "id": "e10d45f4",
   "metadata": {
    "ExecuteTime": {
     "end_time": "2023-05-16T17:05:43.077675Z",
     "start_time": "2023-05-16T17:05:43.061972Z"
    }
   },
   "outputs": [
    {
     "name": "stdout",
     "output_type": "stream",
     "text": [
      "The delta f in ethanol with the regression is (7.1433 ± 0.0054)·10^2 Hz\n"
     ]
    }
   ],
   "source": [
    "delta_freqregression=eigenfreq_air-freq_ethregression\n",
    "stddelta_freqregression=np.sqrt(stdfreq_ethregression**2+stdfreq_air**2)[0]\n",
    "print(f\"The delta f in ethanol with the regression is \"+print_scientific(delta_freqregression,stddelta_freqregression)+\" Hz\")"
   ]
  },
  {
   "cell_type": "markdown",
   "id": "8562f246",
   "metadata": {
    "ExecuteTime": {
     "end_time": "2023-05-14T00:28:10.456945Z",
     "start_time": "2023-05-14T00:28:10.444940Z"
    }
   },
   "source": [
    "Taking into account the drift has not changed much in this case."
   ]
  },
  {
   "cell_type": "markdown",
   "id": "b7ff0ab7",
   "metadata": {},
   "source": [
    "#### Quick check for the air"
   ]
  },
  {
   "cell_type": "code",
   "execution_count": 140,
   "id": "ecde4458",
   "metadata": {
    "ExecuteTime": {
     "end_time": "2023-05-16T17:05:43.798264Z",
     "start_time": "2023-05-16T17:05:43.609392Z"
    }
   },
   "outputs": [
    {
     "data": {
      "text/plain": [
       "[<matplotlib.lines.Line2D at 0x28a4dae6280>]"
      ]
     },
     "execution_count": 140,
     "metadata": {},
     "output_type": "execute_result"
    },
    {
     "data": {
      "image/png": "[encoded data removed]",
      "text/plain": [
       "<Figure size 432x288 with 1 Axes>"
      ]
     },
     "metadata": {
      "needs_background": "light"
     },
     "output_type": "display_data"
    }
   ],
   "source": [
    "#Take from 400 to end\n",
    "freq_air=frequency[time<min_time]\n",
    "time_air=time[time<min_time]\n",
    "plt.plot(time_air,freq_air)"
   ]
  },
  {
   "cell_type": "code",
   "execution_count": 141,
   "id": "27c9213e",
   "metadata": {
    "ExecuteTime": {
     "end_time": "2023-05-16T17:05:43.829408Z",
     "start_time": "2023-05-16T17:05:43.798264Z"
    }
   },
   "outputs": [],
   "source": [
    "linregression= stats.linregress(time_air, freq_air)\n",
    "linregression_air=linregression"
   ]
  },
  {
   "cell_type": "code",
   "execution_count": 142,
   "id": "abae1136",
   "metadata": {
    "ExecuteTime": {
     "end_time": "2023-05-16T17:05:44.017244Z",
     "start_time": "2023-05-16T17:05:43.985679Z"
    }
   },
   "outputs": [
    {
     "name": "stdout",
     "output_type": "stream",
     "text": [
      "We obtain a regression with slope (-7.39 ± 0.28)·10^-4 s^-2\n",
      "and an intercept of (5.0049188315 ± 0.0000000062)·10^6 Hz\n",
      "With a p-value of 1.55E-84<<0.05, for the null hypothesis: the slope is 0\n",
      "Finally the r^2 score is -0.82\n"
     ]
    }
   ],
   "source": [
    "print(f\"We obtain a regression with slope \"+print_scientific(linregression.slope,linregression.stderr)+\" s^-2\")\n",
    "print(f\"and an intercept of \"+print_scientific(linregression.intercept,linregression.intercept_stderr)+\" Hz\")\n",
    "print(f\"With a p-value of {linregression.pvalue:.2E}<<0.05, for the null hypothesis: the slope is 0\")\n",
    "print(f\"Finally the r^2 score is {linregression.rvalue:.2f}\")"
   ]
  },
  {
   "cell_type": "code",
   "execution_count": 152,
   "id": "3d752211",
   "metadata": {
    "ExecuteTime": {
     "end_time": "2023-05-16T17:06:14.202311Z",
     "start_time": "2023-05-16T17:06:13.451331Z"
    },
    "code_folding": []
   },
   "outputs": [
    {
     "data": {
      "image/png": "[encoded data removed]",
      "text/plain": [
       "<Figure size 432x288 with 1 Axes>"
      ]
     },
     "metadata": {
      "needs_background": "light"
     },
     "output_type": "display_data"
    }
   ],
   "source": [
    "#Draw the graph with uncertainty in the slope\n",
    "X=time_air; Y=time_air*linregression.slope+linregression.intercept;\n",
    "uncertainty_regression=np.sqrt((X*linregression.stderr)**2+linregression.intercept_stderr**2)\n",
    "plt.scatter(time_air, freq_air,s=5, label=\"Data points\")\n",
    "plt.plot(X,Y, color=\"purple\", alpha=0.8, label=f\"$y={linregression.slope/1e-4:.3}\\cdot10^\"+\"{-2}\"+f\"x+{linregression.intercept/1e6:.8}\\cdot 10^6$\")\n",
    "plt.plot(X,uncertainty_regression+Y, color=\"purple\", alpha=0.2)\n",
    "plt.plot(X,Y-uncertainty_regression, color=\"purple\", alpha=0.2)\n",
    "plt.fill_between(X, Y+uncertainty_regression, Y-uncertainty_regression,\n",
    "                color=\"purple\", alpha=0.2)\n",
    "plt.legend()\n",
    "plt.xlabel(\"Time (s)\"); plt.ylabel(\"Frequency (Hz)\")\n",
    "plt.tight_layout()"
   ]
  },
  {
   "cell_type": "markdown",
   "id": "ad39a0a7",
   "metadata": {},
   "source": [
    "We can see that there is indeed a drift. The frequency decreases (why? maybe debris settles? oscillomiter gives less energy?) but it is so subtle that it happens in the viccinity of the sensibility of our instruments.\n",
    "\n",
    "Indeed the slope is 100 times smaller than the one of the ethanol and thus negligible."
   ]
  },
  {
   "cell_type": "code",
   "execution_count": 144,
   "id": "23fbb229",
   "metadata": {
    "ExecuteTime": {
     "end_time": "2023-05-16T17:05:44.565389Z",
     "start_time": "2023-05-16T17:05:44.549761Z"
    }
   },
   "outputs": [],
   "source": [
    "min_time=np.array(df[\"Time (s)\"])[frequency==np.min(frequency)]\n",
    "freq_airregression=linregression.slope*min_time[0]+linregression.intercept\n",
    "stdfreq_airregression=np.sqrt((min_time*linregression.stderr)**2+linregression.intercept_stderr**2)"
   ]
  },
  {
   "cell_type": "code",
   "execution_count": 145,
   "id": "bb31b121",
   "metadata": {
    "ExecuteTime": {
     "end_time": "2023-05-16T17:05:44.753442Z",
     "start_time": "2023-05-16T17:05:44.721972Z"
    }
   },
   "outputs": [
    {
     "name": "stdout",
     "output_type": "stream",
     "text": [
      "The delta f in ethanol with the regression is (7.1416 ± 0.0053)·10^2 Hz\n"
     ]
    }
   ],
   "source": [
    "delta_freqregression=freq_airregression-freq_ethregression\n",
    "stddelta_freqregression=np.sqrt(stdfreq_ethregression**2+stdfreq_airregression**2)[0]\n",
    "print(f\"The delta f in ethanol with the regression is \"+print_scientific(delta_freqregression,stddelta_freqregression)+\" Hz\")"
   ]
  },
  {
   "cell_type": "markdown",
   "id": "74f2439c",
   "metadata": {},
   "source": [
    "Adding this drift correction yields a measurement within the range of the first one."
   ]
  },
  {
   "cell_type": "markdown",
   "id": "3ec8944d",
   "metadata": {},
   "source": [
    "### Comparison with the computed value"
   ]
  },
  {
   "cell_type": "code",
   "execution_count": 146,
   "id": "e8049247",
   "metadata": {
    "ExecuteTime": {
     "end_time": "2023-05-16T17:05:45.317090Z",
     "start_time": "2023-05-16T17:05:45.301589Z"
    }
   },
   "outputs": [],
   "source": [
    "mu_q=2.947e11*(constants.gram)/(constants.centi)\n",
    "rho_q=2.648*(constants.gram)*(constants.centi)**(-3)\n",
    "stdrho_q=0.001*(constants.gram)*(constants.centi)**(-3)\n",
    "stdmu_q=0.001e11*(constants.gram)/(constants.centi)\n",
    "mu_L=1116.5e-6; rho_L=786.8"
   ]
  },
  {
   "cell_type": "code",
   "execution_count": 147,
   "id": "003a2e32",
   "metadata": {
    "ExecuteTime": {
     "end_time": "2023-05-16T17:05:45.630459Z",
     "start_time": "2023-05-16T17:05:45.505022Z"
    }
   },
   "outputs": [],
   "source": [
    "expression=f\"-f_0**(3/2)*(rho_L*mu_L/({np.pi}*mu_q*rho_q))**(1/2)\"\n",
    "var=[\"f_0\", \"rho_L\", \"mu_L\", \"rho_q\", \"mu_q\"]; \n",
    "values=[eigenfreq_air, rho_L, mu_L, rho_q, mu_q]; \n",
    "errors=[stdfreq_air, rho_L*0.002, mu_L*0.002, stdrho_q, stdmu_q]\n",
    "deltafreq_theory, stddeltafreq_theory=compute_error(expression, var, values, errors)"
   ]
  },
  {
   "cell_type": "code",
   "execution_count": 148,
   "id": "0861ba2e",
   "metadata": {
    "ExecuteTime": {
     "end_time": "2023-05-16T17:05:45.693050Z",
     "start_time": "2023-05-16T17:05:45.677361Z"
    }
   },
   "outputs": [
    {
     "name": "stdout",
     "output_type": "stream",
     "text": [
      "The theoretical delta f is (-6.7024 ± 0.0096)·10^2 Hz\n"
     ]
    }
   ],
   "source": [
    "print(\"The theoretical delta f is \"+print_scientific(deltafreq_theory, stddeltafreq_theory)+\" Hz\")"
   ]
  },
  {
   "cell_type": "code",
   "execution_count": 149,
   "id": "eb08126b",
   "metadata": {
    "ExecuteTime": {
     "end_time": "2023-05-16T17:05:45.880572Z",
     "start_time": "2023-05-16T17:05:45.849323Z"
    }
   },
   "outputs": [
    {
     "name": "stdout",
     "output_type": "stream",
     "text": [
      "The delta f in ethanol with the regression is (-7.1416 ± 0.0053)·10^2 Hz\n"
     ]
    }
   ],
   "source": [
    "print(f\"The delta f in ethanol with the regression is \"+print_scientific(-delta_freqregression,stddelta_freqregression)+\" Hz\")"
   ]
  },
  {
   "cell_type": "markdown",
   "id": "4480b74d",
   "metadata": {},
   "source": [
    "However the precission of the instruments is only of 1 Hz therefore it is more reasonable to say that the empirical frequency difference is 714\\pm 1 Hz. Even with this more generous error margin the experimental value is clearly out of range. However we must remember that we are dealing with a first order approximation and this frequencies are indeed correct in first order."
   ]
  },
  {
   "cell_type": "code",
   "execution_count": 150,
   "id": "d115cfe2",
   "metadata": {
    "ExecuteTime": {
     "end_time": "2023-05-16T17:05:46.246860Z",
     "start_time": "2023-05-16T17:05:46.215460Z"
    }
   },
   "outputs": [],
   "source": [
    "#Saving the data\n",
    "#np.save('results/task1/d_q.npy',(d_q,stdd_q))\n",
    "#np.save('results/task1/regression_air.npy',linregression_air)\n",
    "#np.save('results/task1/regression_ethanol1.npy',linregression_eth)\n",
    "#np.save('results/task1/Deltaf_theory.npy', (deltafreq_theory, stddeltafreq_theory))\n",
    "#np.save('results/task1/Deltaf_experimental.npy', (delta_freqregression,stddelta_freqregression))\n",
    "#np.save('results/task1/eigenfreq_air.npy',(eigenfreq_air, stdfreq_air))"
   ]
  },
  {
   "cell_type": "code",
   "execution_count": null,
   "id": "8d7d7958",
   "metadata": {},
   "outputs": [],
   "source": []
  }
 ],
 "metadata": {
  "kernelspec": {
   "display_name": "Python 3 (ipykernel)",
   "language": "python",
   "name": "python3"
  },
  "language_info": {
   "codemirror_mode": {
    "name": "ipython",
    "version": 3
   },
   "file_extension": ".py",
   "mimetype": "text/x-python",
   "name": "python",
   "nbconvert_exporter": "python",
   "pygments_lexer": "ipython3",
   "version": "3.9.7"
  },
  "latex_envs": {
   "LaTeX_envs_menu_present": true,
   "autoclose": false,
   "autocomplete": true,
   "bibliofile": "biblio.bib",
   "cite_by": "apalike",
   "current_citInitial": 1,
   "eqLabelWithNumbers": true,
   "eqNumInitial": 1,
   "hotkeys": {
    "equation": "Ctrl-E",
    "itemize": "Ctrl-I"
   },
   "labels_anchors": false,
   "latex_user_defs": false,
   "report_style_numbering": false,
   "user_envs_cfg": false
  }
 },
 "nbformat": 4,
 "nbformat_minor": 5
}

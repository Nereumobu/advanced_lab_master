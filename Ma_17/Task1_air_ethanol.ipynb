{
 "cells": [
  {
   "cell_type": "markdown",
   "id": "9e4aa004",
   "metadata": {},
   "source": [
    "# Ma 17"
   ]
  },
  {
   "cell_type": "code",
   "execution_count": 381,
   "id": "c64821d2",
   "metadata": {
    "ExecuteTime": {
     "end_time": "2023-05-14T08:23:11.866014Z",
     "start_time": "2023-05-14T08:23:11.850337Z"
    }
   },
   "outputs": [],
   "source": [
    "import numpy as np\n",
    "import pandas as pd\n",
    "import matplotlib.pyplot as plt\n",
    "from scipy import constants\n",
    "import sympy as sym\n",
    "from sympy import sympify\n",
    "import scipy.stats as stats"
   ]
  },
  {
   "cell_type": "code",
   "execution_count": 382,
   "id": "c7897e0d",
   "metadata": {
    "ExecuteTime": {
     "end_time": "2023-05-14T08:23:12.069155Z",
     "start_time": "2023-05-14T08:23:12.048817Z"
    }
   },
   "outputs": [],
   "source": [
    "#Prints a value with its error in scientific notation up to its 2 decimal\n",
    "def print_scientific(value,error):\n",
    "    \"\"\"\n",
    "    value (float) : the value\n",
    "    error (float) : the error\n",
    "    \n",
    "    Returns:\n",
    "        (string) : formatted string with the value an error\n",
    "    \"\"\"\n",
    "    base10_error=int(np.floor(np.log10(error)))\n",
    "    base10_value=int(np.floor(np.log10(np.abs(value))))\n",
    "    digits=int(base10_value-base10_error+1)\n",
    "    base=10**base10_value\n",
    "    string=f\"({value/base:.{digits}f} ± {error/base:.{digits}f})·10^{base10_value}\"\n",
    "    return string"
   ]
  },
  {
   "cell_type": "code",
   "execution_count": 383,
   "id": "840e4f4f",
   "metadata": {
    "ExecuteTime": {
     "end_time": "2023-05-14T08:23:12.273347Z",
     "start_time": "2023-05-14T08:23:12.253444Z"
    }
   },
   "outputs": [],
   "source": [
    "def compute_error(expression, variables, values, errors):\n",
    "    \"\"\"\n",
    "    expression (string) : expression you used to compute the value\n",
    "    variables  (list of strings) : list of variables that are in the expression in string form\n",
    "    values     (list of float)   : list of values that go in the expression\n",
    "    errors     (list of float)   : list of errors for each value\n",
    "    \n",
    "    Returns: (result, uncertainty) : tuple with the desired value and its uncertainty\n",
    "    \n",
    "    !! ATTENTION: Length variables = length values = length errors\n",
    "    \n",
    "    An example: \n",
    "    >   expression=\"x**2+y\"\n",
    "    >   var=[\"x\",\"y\"]; values=[2,1]; errors=[4,2]\n",
    "    >   compute_error(expression, var, values, errors)\n",
    "    \"\"\"\n",
    "    #Make variables and expression symbolic\n",
    "    expression=sym.sympify(expression)\n",
    "    variables=sym.symbols(variables)\n",
    "    \n",
    "    #To store coefficients\n",
    "    coefficients=[]\n",
    "    \n",
    "    for index,variable in enumerate(\n",
    "        variables):\n",
    "        dexpression=sym.diff(expression, variable) #Differentiates expression\n",
    "        coefficient=dexpression.subs(list(zip(variables, values))) #substitution\n",
    "        coefficients.append(errors[index]*np.float64(coefficient)) #multiply coefficient times error\n",
    "    \n",
    "    uncertainty=np.sqrt(np.sum(np.array(coefficients)**2))\n",
    "    result=np.float64(expression.subs(list(zip(variables, values))))\n",
    "\n",
    "    return result,uncertainty\n",
    "    "
   ]
  },
  {
   "cell_type": "markdown",
   "id": "53aff4a2",
   "metadata": {},
   "source": [
    "### Computing the width in air"
   ]
  },
  {
   "cell_type": "code",
   "execution_count": 384,
   "id": "b5a8af3e",
   "metadata": {
    "ExecuteTime": {
     "end_time": "2023-05-14T08:23:12.628275Z",
     "start_time": "2023-05-14T08:23:12.620235Z"
    }
   },
   "outputs": [],
   "source": [
    "#All units in SI\n",
    "K_R=1664"
   ]
  },
  {
   "cell_type": "code",
   "execution_count": 385,
   "id": "964823a4",
   "metadata": {
    "ExecuteTime": {
     "end_time": "2023-05-14T08:23:13.019557Z",
     "start_time": "2023-05-14T08:23:12.878972Z"
    }
   },
   "outputs": [
    {
     "data": {
      "text/plain": [
       "<AxesSubplot:xlabel='Time (s)'>"
      ]
     },
     "execution_count": 385,
     "metadata": {},
     "output_type": "execute_result"
    },
    {
     "data": {
      "image/png": "[encoded data removed]",
      "text/plain": [
       "<Figure size 432x288 with 1 Axes>"
      ]
     },
     "metadata": {
      "needs_background": "light"
     },
     "output_type": "display_data"
    }
   ],
   "source": [
    "#Load dataframe\n",
    "df=df=pd.read_csv(f\"data/eigen_air.csv\", sep=\";\")\n",
    "frequency=np.array(df[\"Frequency\"])\n",
    "time=np.array(df[\"Time (s)\"])\n",
    "df.plot(x=\"Time (s)\", y=\"Frequency\")"
   ]
  },
  {
   "cell_type": "code",
   "execution_count": 386,
   "id": "3df5d22f",
   "metadata": {
    "ExecuteTime": {
     "end_time": "2023-05-14T08:23:13.284479Z",
     "start_time": "2023-05-14T08:23:13.276463Z"
    }
   },
   "outputs": [],
   "source": [
    "#Take from 0 to 300s\n",
    "freq_air=frequency[time<=300]\n",
    "eigenfreq_air=np.mean(freq_air)\n",
    "stdfreq_air=np.std(freq_air)"
   ]
  },
  {
   "cell_type": "code",
   "execution_count": 387,
   "id": "4cd9462f",
   "metadata": {
    "ExecuteTime": {
     "end_time": "2023-05-14T08:23:13.570785Z",
     "start_time": "2023-05-14T08:23:13.554791Z"
    }
   },
   "outputs": [
    {
     "name": "stdout",
     "output_type": "stream",
     "text": [
      "The eigenfrequency in air is (5.004918717 ± 0.000000083)·10^6 Hz\n"
     ]
    }
   ],
   "source": [
    "print(f\"The eigenfrequency in air is \"+print_scientific(eigenfreq_air,stdfreq_air)+\" Hz\")"
   ]
  },
  {
   "cell_type": "code",
   "execution_count": 388,
   "id": "9eb20177",
   "metadata": {
    "ExecuteTime": {
     "end_time": "2023-05-14T08:23:13.794796Z",
     "start_time": "2023-05-14T08:23:13.779108Z"
    }
   },
   "outputs": [],
   "source": [
    "expression=f\"{K_R}/f_0\"\n",
    "var=[\"f_0\"]; values=[eigenfreq_air]; errors=[stdfreq_air]\n",
    "d_q, stdd_q=compute_error(expression,var,values,errors)"
   ]
  },
  {
   "cell_type": "code",
   "execution_count": 389,
   "id": "768c71c7",
   "metadata": {
    "ExecuteTime": {
     "end_time": "2023-05-14T08:23:13.984763Z",
     "start_time": "2023-05-14T08:23:13.976509Z"
    }
   },
   "outputs": [
    {
     "name": "stdout",
     "output_type": "stream",
     "text": [
      "The thickness is (3.324729319 ± 0.000000055)·10^-4 m\n"
     ]
    }
   ],
   "source": [
    "print(f\"The thickness is \"+print_scientific(d_q,stdd_q)+\" m\")"
   ]
  },
  {
   "cell_type": "markdown",
   "id": "4c6735cc",
   "metadata": {},
   "source": [
    "Around a tenth of a milimiter, looks good."
   ]
  },
  {
   "cell_type": "markdown",
   "id": "f19b3956",
   "metadata": {},
   "source": [
    "### Computing frequency difference"
   ]
  },
  {
   "cell_type": "markdown",
   "id": "98710027",
   "metadata": {},
   "source": [
    "There are two ways we can do this. First just roughly computing the difference. And then secondly taking into account the apparent frequency drift."
   ]
  },
  {
   "cell_type": "code",
   "execution_count": 390,
   "id": "f21ceaa7",
   "metadata": {
    "ExecuteTime": {
     "end_time": "2023-05-14T08:23:15.077098Z",
     "start_time": "2023-05-14T08:23:14.952488Z"
    },
    "code_folding": [
     0
    ]
   },
   "outputs": [
    {
     "data": {
      "text/plain": [
       "<AxesSubplot:xlabel='Time (s)'>"
      ]
     },
     "execution_count": 390,
     "metadata": {},
     "output_type": "execute_result"
    },
    {
     "data": {
      "image/png": "[encoded data removed]",
      "text/plain": [
       "<Figure size 432x288 with 1 Axes>"
      ]
     },
     "metadata": {
      "needs_background": "light"
     },
     "output_type": "display_data"
    }
   ],
   "source": [
    "#Show graph\n",
    "df=df=pd.read_csv(f\"data/eigen_air.csv\", sep=\";\")\n",
    "df.plot(x=\"Time (s)\", y=\"Frequency\")"
   ]
  },
  {
   "cell_type": "markdown",
   "id": "952836df",
   "metadata": {},
   "source": [
    "#### Rough eye approximation"
   ]
  },
  {
   "cell_type": "code",
   "execution_count": 391,
   "id": "e13e9200",
   "metadata": {
    "ExecuteTime": {
     "end_time": "2023-05-14T08:23:15.335365Z",
     "start_time": "2023-05-14T08:23:15.327553Z"
    }
   },
   "outputs": [],
   "source": [
    "#Take from 400 to end\n",
    "freq_eth=frequency[time>=400]\n",
    "stdfreq_eth=np.std(freq_eth)\n",
    "eigenfreq_eth=np.mean(freq_eth)"
   ]
  },
  {
   "cell_type": "code",
   "execution_count": 392,
   "id": "774b46aa",
   "metadata": {
    "ExecuteTime": {
     "end_time": "2023-05-14T08:23:15.628308Z",
     "start_time": "2023-05-14T08:23:15.520437Z"
    }
   },
   "outputs": [
    {
     "data": {
      "text/plain": [
       "[<matplotlib.lines.Line2D at 0x25536e94c40>]"
      ]
     },
     "execution_count": 392,
     "metadata": {},
     "output_type": "execute_result"
    },
    {
     "data": {
      "image/png": "[encoded data removed]",
      "text/plain": [
       "<Figure size 432x288 with 1 Axes>"
      ]
     },
     "metadata": {
      "needs_background": "light"
     },
     "output_type": "display_data"
    }
   ],
   "source": [
    "plt.plot(freq_eth)"
   ]
  },
  {
   "cell_type": "code",
   "execution_count": 393,
   "id": "8dca5be3",
   "metadata": {
    "ExecuteTime": {
     "end_time": "2023-05-14T08:23:15.740735Z",
     "start_time": "2023-05-14T08:23:15.728767Z"
    }
   },
   "outputs": [
    {
     "name": "stdout",
     "output_type": "stream",
     "text": [
      "The eigenfrequency in ethanol is (5.004918717 ± 0.000000083)·10^6 Hz\n"
     ]
    }
   ],
   "source": [
    "print(f\"The eigenfrequency in ethanol is \"+print_scientific(eigenfreq_air,stdfreq_air)+\" Hz\")"
   ]
  },
  {
   "cell_type": "code",
   "execution_count": 394,
   "id": "80df57ac",
   "metadata": {
    "ExecuteTime": {
     "end_time": "2023-05-14T08:23:16.357754Z",
     "start_time": "2023-05-14T08:23:16.343669Z"
    }
   },
   "outputs": [
    {
     "name": "stdout",
     "output_type": "stream",
     "text": [
      "The delta f in ethanol is (7.071 ± 0.037)·10^2 Hz\n"
     ]
    }
   ],
   "source": [
    "delta_freq=eigenfreq_air-eigenfreq_eth\n",
    "stddelta_freq=np.sqrt(stdfreq_eth**2+stdfreq_air**2)\n",
    "print(f\"The delta f in ethanol is \"+print_scientific(delta_freq,stddelta_freq)+\" Hz\")"
   ]
  },
  {
   "cell_type": "markdown",
   "id": "e5c0c8a9",
   "metadata": {},
   "source": [
    "#### Linear approximation"
   ]
  },
  {
   "cell_type": "code",
   "execution_count": 395,
   "id": "f9048895",
   "metadata": {
    "ExecuteTime": {
     "end_time": "2023-05-14T08:23:17.197032Z",
     "start_time": "2023-05-14T08:23:17.184859Z"
    }
   },
   "outputs": [],
   "source": [
    "#Take from 400 to end\n",
    "freq_eth=frequency[time>=400]\n",
    "time_eth=time[time>=400]"
   ]
  },
  {
   "cell_type": "code",
   "execution_count": 396,
   "id": "ef14061b",
   "metadata": {
    "ExecuteTime": {
     "end_time": "2023-05-14T08:23:17.642602Z",
     "start_time": "2023-05-14T08:23:17.630343Z"
    }
   },
   "outputs": [],
   "source": [
    "linregression= stats.linregress(time_eth, freq_eth)"
   ]
  },
  {
   "cell_type": "code",
   "execution_count": 397,
   "id": "b4c77282",
   "metadata": {
    "ExecuteTime": {
     "end_time": "2023-05-14T08:23:18.039523Z",
     "start_time": "2023-05-14T08:23:18.027019Z"
    }
   },
   "outputs": [
    {
     "name": "stdout",
     "output_type": "stream",
     "text": [
      "We obtain a regression with slope (4.740 ± 0.081)·10^-2 s^-2\n",
      "and an intercept of (5 ± 44)·10^-2 Hz\n",
      "With a p-value of 1.61E-144<<0.05, for the null hypothesis: the slope is 0\n",
      "Finally the r^2 score is 0.97\n"
     ]
    }
   ],
   "source": [
    "print(f\"We obtain a regression with slope \"+print_scientific(linregression.slope,linregression.stderr)+\" s^-2\")\n",
    "print(f\"and an intercept of \"+print_scientific(linregression.slope,linregression.intercept_stderr)+\" Hz\")\n",
    "print(f\"With a p-value of {linregression.pvalue:.2E}<<0.05, for the null hypothesis: the slope is 0\")\n",
    "print(f\"Finally the r^2 score is {linregression.rvalue:.2f}\")"
   ]
  },
  {
   "cell_type": "code",
   "execution_count": 398,
   "id": "c43241aa",
   "metadata": {
    "ExecuteTime": {
     "end_time": "2023-05-14T08:23:18.982596Z",
     "start_time": "2023-05-14T08:23:18.678568Z"
    },
    "code_folding": [
     0
    ],
    "scrolled": true
   },
   "outputs": [
    {
     "data": {
      "image/png": "[encoded data removed]",
      "text/plain": [
       "<Figure size 432x288 with 1 Axes>"
      ]
     },
     "metadata": {
      "needs_background": "light"
     },
     "output_type": "display_data"
    }
   ],
   "source": [
    "#Draw the graph with uncertainty in the slope\n",
    "X=time_eth; Y=time_eth*linregression.slope+linregression.intercept;\n",
    "uncertainty_regression=np.sqrt((X*linregression.stderr)**2+linregression.intercept_stderr**2)\n",
    "plt.scatter(time_eth, freq_eth,s=5, label=\"Data points\")\n",
    "plt.plot(X,Y, color=\"purple\", alpha=0.8, label=\"Fit\")\n",
    "plt.plot(X,uncertainty_regression+Y, color=\"purple\", alpha=0.2)\n",
    "plt.plot(X,Y-uncertainty_regression, color=\"purple\", alpha=0.2)\n",
    "plt.fill_between(X, Y+uncertainty_regression, Y-uncertainty_regression,\n",
    "                color=\"purple\", alpha=0.2, label=\"Uncertainty\")\n",
    "plt.legend()\n",
    "plt.xlabel(\"Time (s)\"); plt.ylabel(\"Frequency (Hz)\")\n",
    "plt.title(\"Fit of the linear regression\")\n",
    "plt.tight_layout()"
   ]
  },
  {
   "cell_type": "markdown",
   "id": "5e345656",
   "metadata": {
    "ExecuteTime": {
     "end_time": "2023-05-13T23:40:54.617938Z",
     "start_time": "2023-05-13T23:40:54.613924Z"
    }
   },
   "source": [
    "The high r^2 score gives validity to the idea that there is a linear relation between frequency and time while the low p-value tells us that if that is the case, then the slope is certainly not 0. That is, there is frequency drift."
   ]
  },
  {
   "cell_type": "markdown",
   "id": "bd8da7f7",
   "metadata": {},
   "source": [
    "Following this we can compute the expected frequency when the crystal is submerged. Let's say at the minimum of the graph."
   ]
  },
  {
   "cell_type": "code",
   "execution_count": 399,
   "id": "3a67a60e",
   "metadata": {
    "ExecuteTime": {
     "end_time": "2023-05-14T08:23:21.946120Z",
     "start_time": "2023-05-14T08:23:21.933791Z"
    }
   },
   "outputs": [],
   "source": [
    "min_time=np.array(df[\"Time (s)\"])[frequency==np.min(frequency)]\n",
    "freq_ethregression=linregression.slope*min_time[0]+linregression.intercept\n",
    "stdfreq_ethregression=np.sqrt((min_time*linregression.stderr)**2+linregression.intercept_stderr**2)"
   ]
  },
  {
   "cell_type": "code",
   "execution_count": 400,
   "id": "e430e16d",
   "metadata": {
    "ExecuteTime": {
     "end_time": "2023-05-14T08:23:24.882843Z",
     "start_time": "2023-05-14T08:23:24.871027Z"
    }
   },
   "outputs": [
    {
     "name": "stdout",
     "output_type": "stream",
     "text": [
      "The delta f in ethanol with the regression is (7.1433 ± 0.0054)·10^2 Hz\n"
     ]
    }
   ],
   "source": [
    "delta_freqregression=eigenfreq_air-freq_ethregression\n",
    "stddelta_freqregression=np.sqrt(stdfreq_ethregression**2+stdfreq_air**2)[0]\n",
    "print(f\"The delta f in ethanol with the regression is \"+print_scientific(delta_freqregression,stddelta_freqregression)+\" Hz\")"
   ]
  },
  {
   "cell_type": "markdown",
   "id": "63e786e8",
   "metadata": {
    "ExecuteTime": {
     "end_time": "2023-05-14T00:28:10.456945Z",
     "start_time": "2023-05-14T00:28:10.444940Z"
    }
   },
   "source": [
    "Taking into account the drift has not changed much in this case."
   ]
  },
  {
   "cell_type": "markdown",
   "id": "331eb44a",
   "metadata": {},
   "source": [
    "#### Quick check for the air"
   ]
  },
  {
   "cell_type": "code",
   "execution_count": 401,
   "id": "b5a73f5c",
   "metadata": {
    "ExecuteTime": {
     "end_time": "2023-05-14T08:23:27.670861Z",
     "start_time": "2023-05-14T08:23:27.557503Z"
    }
   },
   "outputs": [
    {
     "data": {
      "text/plain": [
       "[<matplotlib.lines.Line2D at 0x25536c06d90>]"
      ]
     },
     "execution_count": 401,
     "metadata": {},
     "output_type": "execute_result"
    },
    {
     "data": {
      "image/png": "[encoded data removed]",
      "text/plain": [
       "<Figure size 432x288 with 1 Axes>"
      ]
     },
     "metadata": {
      "needs_background": "light"
     },
     "output_type": "display_data"
    }
   ],
   "source": [
    "#Take from 400 to end\n",
    "freq_air=frequency[time<min_time]\n",
    "time_air=time[time<min_time]\n",
    "plt.plot(time_air,freq_air)"
   ]
  },
  {
   "cell_type": "code",
   "execution_count": 402,
   "id": "3572d7f0",
   "metadata": {
    "ExecuteTime": {
     "end_time": "2023-05-14T08:23:30.268304Z",
     "start_time": "2023-05-14T08:23:30.256794Z"
    }
   },
   "outputs": [],
   "source": [
    "linregression= stats.linregress(time_air, freq_air)"
   ]
  },
  {
   "cell_type": "code",
   "execution_count": 403,
   "id": "2ac0bcd1",
   "metadata": {
    "ExecuteTime": {
     "end_time": "2023-05-14T08:23:30.675566Z",
     "start_time": "2023-05-14T08:23:30.663955Z"
    }
   },
   "outputs": [
    {
     "name": "stdout",
     "output_type": "stream",
     "text": [
      "We obtain a regression with slope (-7.39 ± 0.28)·10^-4 s^-2\n",
      "and an intercept of (-7 ± 62)·10^-4 Hz\n",
      "With a p-value of 1.55E-84<<0.05, for the null hypothesis: the slope is 0\n",
      "Finally the r^2 score is -0.82\n"
     ]
    }
   ],
   "source": [
    "print(f\"We obtain a regression with slope \"+print_scientific(linregression.slope,linregression.stderr)+\" s^-2\")\n",
    "print(f\"and an intercept of \"+print_scientific(linregression.slope,linregression.intercept_stderr)+\" Hz\")\n",
    "print(f\"With a p-value of {linregression.pvalue:.2E}<<0.05, for the null hypothesis: the slope is 0\")\n",
    "print(f\"Finally the r^2 score is {linregression.rvalue:.2f}\")"
   ]
  },
  {
   "cell_type": "code",
   "execution_count": 404,
   "id": "22c0ae42",
   "metadata": {
    "ExecuteTime": {
     "end_time": "2023-05-14T08:23:31.787608Z",
     "start_time": "2023-05-14T08:23:31.625016Z"
    },
    "code_folding": []
   },
   "outputs": [
    {
     "data": {
      "image/png": "[encoded data removed]",
      "text/plain": [
       "<Figure size 432x288 with 1 Axes>"
      ]
     },
     "metadata": {
      "needs_background": "light"
     },
     "output_type": "display_data"
    }
   ],
   "source": [
    "#Draw the graph with uncertainty in the slope\n",
    "X=time_air; Y=time_air*linregression.slope+linregression.intercept;\n",
    "uncertainty_regression=np.sqrt((X*linregression.stderr)**2+linregression.intercept_stderr**2)\n",
    "plt.scatter(time_air, freq_air,s=5, label=\"Data points\")\n",
    "plt.plot(X,Y, color=\"purple\", alpha=0.8, label=\"Fit\")\n",
    "plt.plot(X,uncertainty_regression+Y, color=\"purple\", alpha=0.2)\n",
    "plt.plot(X,Y-uncertainty_regression, color=\"purple\", alpha=0.2)\n",
    "plt.fill_between(X, Y+uncertainty_regression, Y-uncertainty_regression,\n",
    "                color=\"purple\", alpha=0.2, label=\"Uncertainty\")\n",
    "plt.legend()\n",
    "plt.xlabel(\"Time (s)\"); plt.ylabel(\"Frequency (Hz)\")\n",
    "plt.title(\"Fit of the linear regression\")\n",
    "plt.tight_layout()"
   ]
  },
  {
   "cell_type": "markdown",
   "id": "b9f11a38",
   "metadata": {},
   "source": [
    "We can see that there is indeed a drift. The frequency decreases (why? maybe debris settles? oscillomiter gives less energy?) but it is so subtle that it happens in the viccinity of the sensibility of our instruments.\n",
    "\n",
    "Indeed the slope is 100 times smaller than the one of the ethanol and thus negligible."
   ]
  },
  {
   "cell_type": "code",
   "execution_count": 406,
   "id": "d6ea3889",
   "metadata": {
    "ExecuteTime": {
     "end_time": "2023-05-14T08:25:01.310969Z",
     "start_time": "2023-05-14T08:25:01.296183Z"
    }
   },
   "outputs": [],
   "source": [
    "min_time=np.array(df[\"Time (s)\"])[frequency==np.min(frequency)]\n",
    "freq_airregression=linregression.slope*min_time[0]+linregression.intercept\n",
    "stdfreq_airregression=np.sqrt((min_time*linregression.stderr)**2+linregression.intercept_stderr**2)"
   ]
  },
  {
   "cell_type": "code",
   "execution_count": 407,
   "id": "9e3ee91c",
   "metadata": {
    "ExecuteTime": {
     "end_time": "2023-05-14T08:25:01.802358Z",
     "start_time": "2023-05-14T08:25:01.789763Z"
    }
   },
   "outputs": [
    {
     "name": "stdout",
     "output_type": "stream",
     "text": [
      "The delta f in ethanol with the regression is (7.1416 ± 0.0053)·10^2 Hz\n"
     ]
    }
   ],
   "source": [
    "delta_freqregression=freq_airregression-freq_ethregression\n",
    "stddelta_freqregression=np.sqrt(stdfreq_ethregression**2+stdfreq_airregression**2)[0]\n",
    "print(f\"The delta f in ethanol with the regression is \"+print_scientific(delta_freqregression,stddelta_freqregression)+\" Hz\")"
   ]
  },
  {
   "cell_type": "markdown",
   "id": "6802d8ba",
   "metadata": {},
   "source": [
    "Adding this drift correction yields a measurement within the range of the first one."
   ]
  },
  {
   "cell_type": "markdown",
   "id": "61f90cd0",
   "metadata": {},
   "source": [
    "### Comparison with the computed value"
   ]
  },
  {
   "cell_type": "code",
   "execution_count": 431,
   "id": "8b56b8a8",
   "metadata": {
    "ExecuteTime": {
     "end_time": "2023-05-14T08:52:24.802090Z",
     "start_time": "2023-05-14T08:52:24.790223Z"
    }
   },
   "outputs": [],
   "source": [
    "mu_q=2.947e11*(constants.gram)/(constants.centi)\n",
    "rho_q=2.648*(constants.gram)*(constants.centi)**(-3)\n",
    "stdrho_q=0.001*(constants.gram)*(constants.centi)**(-3)\n",
    "stdmu_q=0.001e11*(constants.gram)/(constants.centi)\n",
    "mu_L=1116.5e-6; rho_L=786.8"
   ]
  },
  {
   "cell_type": "code",
   "execution_count": 432,
   "id": "9351080e",
   "metadata": {
    "ExecuteTime": {
     "end_time": "2023-05-14T08:53:13.351210Z",
     "start_time": "2023-05-14T08:53:13.287477Z"
    }
   },
   "outputs": [],
   "source": [
    "expression=f\"-f_0**(3/2)*(rho_L*mu_L/({np.pi}*mu_q*rho_q))**(1/2)\"\n",
    "var=[\"f_0\", \"rho_L\", \"mu_L\", \"rho_q\", \"mu_q\"]; \n",
    "values=[eigenfreq_air, rho_L, mu_L, rho_q, mu_q]; \n",
    "errors=[stdfreq_air, rho_L*0.002, mu_L*0.002, stdrho_q, stdmu_q]\n",
    "deltafreq_theory, stddeltafreq_theory=compute_error(expression, var, values, errors)"
   ]
  },
  {
   "cell_type": "code",
   "execution_count": 433,
   "id": "e891f2de",
   "metadata": {
    "ExecuteTime": {
     "end_time": "2023-05-14T08:53:14.806879Z",
     "start_time": "2023-05-14T08:53:14.798838Z"
    }
   },
   "outputs": [
    {
     "name": "stdout",
     "output_type": "stream",
     "text": [
      "The theoretical delta f is (-6.7024 ± 0.0096)·10^2 Hz\n"
     ]
    }
   ],
   "source": [
    "print(\"The theoretical delta f is \"+print_scientific(deltafreq_theory, stddeltafreq_theory)+\" Hz\")"
   ]
  },
  {
   "cell_type": "code",
   "execution_count": 430,
   "id": "384ee041",
   "metadata": {
    "ExecuteTime": {
     "end_time": "2023-05-14T08:47:45.020339Z",
     "start_time": "2023-05-14T08:47:45.007861Z"
    }
   },
   "outputs": [
    {
     "name": "stdout",
     "output_type": "stream",
     "text": [
      "The delta f in ethanol with the regression is (-7.1416 ± 0.0053)·10^2 Hz\n"
     ]
    }
   ],
   "source": [
    "print(f\"The delta f in ethanol with the regression is \"+print_scientific(-delta_freqregression,stddelta_freqregression)+\" Hz\")"
   ]
  },
  {
   "cell_type": "markdown",
   "id": "c98a812e",
   "metadata": {},
   "source": [
    "However the precission of the instruments is only of 1 Hz therefore it is more reasonable to say that the empirical frequency difference is 714\\pm 1 Hz. Even with this more generous error margin the experimental value is clearly out of range. However we must remember that we are dealing with a first order approximation "
   ]
  }
 ],
 "metadata": {
  "kernelspec": {
   "display_name": "Python 3 (ipykernel)",
   "language": "python",
   "name": "python3"
  },
  "language_info": {
   "codemirror_mode": {
    "name": "ipython",
    "version": 3
   },
   "file_extension": ".py",
   "mimetype": "text/x-python",
   "name": "python",
   "nbconvert_exporter": "python",
   "pygments_lexer": "ipython3",
   "version": "3.9.7"
  },
  "latex_envs": {
   "LaTeX_envs_menu_present": true,
   "autoclose": false,
   "autocomplete": true,
   "bibliofile": "biblio.bib",
   "cite_by": "apalike",
   "current_citInitial": 1,
   "eqLabelWithNumbers": true,
   "eqNumInitial": 1,
   "hotkeys": {
    "equation": "Ctrl-E",
    "itemize": "Ctrl-I"
   },
   "labels_anchors": false,
   "latex_user_defs": false,
   "report_style_numbering": false,
   "user_envs_cfg": false
  }
 },
 "nbformat": 4,
 "nbformat_minor": 5
}

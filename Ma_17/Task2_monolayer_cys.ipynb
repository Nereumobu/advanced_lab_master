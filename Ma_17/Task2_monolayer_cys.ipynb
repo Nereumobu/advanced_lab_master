{
 "cells": [
  {
   "cell_type": "markdown",
   "id": "2c7143be",
   "metadata": {},
   "source": [
    "# Ma 17"
   ]
  },
  {
   "cell_type": "code",
   "execution_count": 2,
   "id": "8ecac8d9",
   "metadata": {
    "ExecuteTime": {
     "end_time": "2023-05-14T17:38:42.653211Z",
     "start_time": "2023-05-14T17:38:40.804367Z"
    }
   },
   "outputs": [],
   "source": [
    "import numpy as np\n",
    "import pandas as pd\n",
    "import matplotlib.pyplot as plt\n",
    "from scipy import constants\n",
    "import sympy as sym\n",
    "from sympy import sympify\n",
    "import scipy.stats as stats"
   ]
  },
  {
   "cell_type": "code",
   "execution_count": 3,
   "id": "228e2765",
   "metadata": {
    "ExecuteTime": {
     "end_time": "2023-05-14T18:59:32.959343Z",
     "start_time": "2023-05-14T18:59:32.951888Z"
    }
   },
   "outputs": [],
   "source": [
    "#Prints a value with its error in scientific notation up to its 2 decimal\n",
    "def print_scientific(value,error):\n",
    "    \"\"\"\n",
    "    value (float) : the value\n",
    "    error (float) : the error\n",
    "    \n",
    "    Returns:\n",
    "        (string) : formatted string with the value an error\n",
    "    \"\"\"\n",
    "    base10_error=int(np.floor(np.log10(error)))\n",
    "    base10_value=int(np.floor(np.log10(np.abs(value))))\n",
    "    digits=int(base10_value-base10_error+1)\n",
    "    if digits<=0:\n",
    "        digits=0\n",
    "    base=10**base10_value\n",
    "    string=f\"({value/base:.{digits}f} ± {error/base:.{digits}f})·10^{base10_value}\"\n",
    "    return string"
   ]
  },
  {
   "cell_type": "code",
   "execution_count": 4,
   "id": "5e2a3f3a",
   "metadata": {
    "ExecuteTime": {
     "end_time": "2023-05-14T18:59:38.585382Z",
     "start_time": "2023-05-14T18:59:38.575247Z"
    }
   },
   "outputs": [],
   "source": [
    "def compute_error(expression, variables, values, errors):\n",
    "    \"\"\"\n",
    "    expression (string) : expression you used to compute the value\n",
    "    variables  (list of strings) : list of variables that are in the expression in string form\n",
    "    values     (list of float)   : list of values that go in the expression\n",
    "    errors     (list of float)   : list of errors for each value\n",
    "    \n",
    "    Returns: (result, uncertainty) : tuple with the desired value and its uncertainty\n",
    "    \n",
    "    !! ATTENTION: Length variables = length values = length errors\n",
    "    \n",
    "    An example: \n",
    "    >   expression=\"x**2+y\"\n",
    "    >   var=[\"x\",\"y\"]; values=[2,1]; errors=[4,2]\n",
    "    >   compute_error(expression, var, values, errors)\n",
    "    \"\"\"\n",
    "    #Make variables and expression symbolic\n",
    "    expression=sym.sympify(expression)\n",
    "    variables=sym.symbols(variables)\n",
    "    \n",
    "    #To store coefficients\n",
    "    coefficients=[]\n",
    "    \n",
    "    for index,variable in enumerate(\n",
    "        variables):\n",
    "        dexpression=sym.diff(expression, variable) #Differentiates expression\n",
    "        coefficient=dexpression.subs(list(zip(variables, values))) #substitution\n",
    "        coefficients.append(errors[index]*np.float64(coefficient)) #multiply coefficient times error\n",
    "    \n",
    "    uncertainty=np.sqrt(np.sum(np.array(coefficients)**2))\n",
    "    result=np.float64(expression.subs(list(zip(variables, values))))\n",
    "\n",
    "    return result,uncertainty\n",
    "    "
   ]
  },
  {
   "cell_type": "markdown",
   "id": "c36c93cf",
   "metadata": {},
   "source": [
    "## Computing mass of monolayer Cys"
   ]
  },
  {
   "cell_type": "code",
   "execution_count": 7,
   "id": "b4116474",
   "metadata": {
    "ExecuteTime": {
     "end_time": "2023-05-14T19:09:42.354933Z",
     "start_time": "2023-05-14T19:09:42.158816Z"
    }
   },
   "outputs": [
    {
     "data": {
      "text/plain": [
       "Text(0, 0.5, 'Frequency (Hz)')"
      ]
     },
     "execution_count": 7,
     "metadata": {},
     "output_type": "execute_result"
    },
    {
     "data": {
      "image/png": "[encoded data removed]",
      "text/plain": [
       "<Figure size 432x288 with 1 Axes>"
      ]
     },
     "metadata": {
      "needs_background": "light"
     },
     "output_type": "display_data"
    }
   ],
   "source": [
    "#Load dataframe\n",
    "df=pd.read_csv(f\"data/MUA-air.csv\", sep=\";\")\n",
    "frequency=np.array(df[\"Frequency\"])\n",
    "time=np.array(df[\"Time (s)\"])\n",
    "plt.plot(time/60, frequency)\n",
    "plt.xlabel(\"Time (min)\")\n",
    "plt.ylabel(\"Frequency (Hz)\")"
   ]
  },
  {
   "cell_type": "markdown",
   "id": "dbf611ac",
   "metadata": {},
   "source": [
    "The first part corresponds to oscillations in the air. After the 20 minute mark the cytochrome protein was added. "
   ]
  },
  {
   "cell_type": "markdown",
   "id": "7b51b6ac",
   "metadata": {},
   "source": [
    "### Selecting the slice"
   ]
  },
  {
   "cell_type": "code",
   "execution_count": 15,
   "id": "2cd6b509",
   "metadata": {
    "ExecuteTime": {
     "end_time": "2023-05-14T19:42:17.203352Z",
     "start_time": "2023-05-14T19:42:17.039132Z"
    }
   },
   "outputs": [
    {
     "data": {
      "text/plain": [
       "[<matplotlib.lines.Line2D at 0x1f93e2b7640>]"
      ]
     },
     "execution_count": 15,
     "metadata": {},
     "output_type": "execute_result"
    },
    {
     "data": {
      "image/png": "[encoded data removed]",
      "text/plain": [
       "<Figure size 432x288 with 1 Axes>"
      ]
     },
     "metadata": {
      "needs_background": "light"
     },
     "output_type": "display_data"
    }
   ],
   "source": [
    "time_slice=[time>=10*60 and time<=20*60 for time in time]\n",
    "plt.plot(time[time_slice],frequency[time_slice])"
   ]
  },
  {
   "cell_type": "markdown",
   "id": "37c71dd5",
   "metadata": {},
   "source": [
    "We are going to use the baseline obtained from the last task as here we can not do a regression as adsorption may be still happening."
   ]
  },
  {
   "cell_type": "code",
   "execution_count": 17,
   "id": "bc3c0001",
   "metadata": {
    "ExecuteTime": {
     "end_time": "2023-05-14T19:46:17.474843Z",
     "start_time": "2023-05-14T19:46:17.446622Z"
    }
   },
   "outputs": [],
   "source": [
    "#Previous results\n",
    "rho_q=2.648*(constants.gram)*(constants.centi)**(-3)\n",
    "stdrho_q=0.001*(constants.gram)*(constants.centi)**(-3)\n",
    "deltaf_L, stddeltaf_L=np.load(\"results/task1/Deltaf_experimental.npy\")\n",
    "d_q, stdd_q=np.load(\"results/task1/d_q.npy\")\n",
    "f_0, stdf_0=np.load(\"results/task1/eigenfreq_air.npy\")\n",
    "A=np.pi*(constants.inch/2)**2\n",
    "deltaf_L=-deltaf_L\n",
    "regression"
   ]
  },
  {
   "cell_type": "code",
   "execution_count": null,
   "id": "ea54f336",
   "metadata": {},
   "outputs": [],
   "source": []
  },
  {
   "cell_type": "code",
   "execution_count": null,
   "id": "8c53c5d8",
   "metadata": {},
   "outputs": [],
   "source": []
  },
  {
   "cell_type": "code",
   "execution_count": 10,
   "id": "c8307531",
   "metadata": {
    "ExecuteTime": {
     "end_time": "2023-05-14T19:14:28.998335Z",
     "start_time": "2023-05-14T19:14:28.849303Z"
    }
   },
   "outputs": [
    {
     "data": {
      "text/plain": [
       "[<matplotlib.lines.Line2D at 0x1f93e054e80>]"
      ]
     },
     "execution_count": 10,
     "metadata": {},
     "output_type": "execute_result"
    },
    {
     "data": {
      "image/png": "[encoded data removed]",
      "text/plain": [
       "<Figure size 432x288 with 1 Axes>"
      ]
     },
     "metadata": {
      "needs_background": "light"
     },
     "output_type": "display_data"
    }
   ],
   "source": [
    "time_slice=time[time>=20*60]\n",
    "freq_slice=frequency[time>=20*60]\n",
    "plt.plot(time_slice,freq_slice)"
   ]
  },
  {
   "cell_type": "code",
   "execution_count": 14,
   "id": "437424a8",
   "metadata": {
    "ExecuteTime": {
     "end_time": "2023-05-14T19:37:34.283719Z",
     "start_time": "2023-05-14T19:37:34.111308Z"
    }
   },
   "outputs": [
    {
     "data": {
      "text/plain": [
       "[<matplotlib.lines.Line2D at 0x1f93e249ac0>]"
      ]
     },
     "execution_count": 14,
     "metadata": {},
     "output_type": "execute_result"
    },
    {
     "data": {
      "image/png": "[encoded data removed]",
      "text/plain": [
       "<Figure size 432x288 with 1 Axes>"
      ]
     },
     "metadata": {
      "needs_background": "light"
     },
     "output_type": "display_data"
    }
   ],
   "source": [
    "selection=[time>=1500 for time in time]\n",
    "time_cys=time[selection]; freq_cys=frequency[selection]\n",
    "plt.plot(time_cys, freq_cys)"
   ]
  },
  {
   "cell_type": "code",
   "execution_count": null,
   "id": "78e2493c",
   "metadata": {},
   "outputs": [],
   "source": []
  }
 ],
 "metadata": {
  "kernelspec": {
   "display_name": "Python 3 (ipykernel)",
   "language": "python",
   "name": "python3"
  },
  "language_info": {
   "codemirror_mode": {
    "name": "ipython",
    "version": 3
   },
   "file_extension": ".py",
   "mimetype": "text/x-python",
   "name": "python",
   "nbconvert_exporter": "python",
   "pygments_lexer": "ipython3",
   "version": "3.9.7"
  },
  "latex_envs": {
   "LaTeX_envs_menu_present": true,
   "autoclose": false,
   "autocomplete": true,
   "bibliofile": "biblio.bib",
   "cite_by": "apalike",
   "current_citInitial": 1,
   "eqLabelWithNumbers": true,
   "eqNumInitial": 1,
   "hotkeys": {
    "equation": "Ctrl-E",
    "itemize": "Ctrl-I"
   },
   "labels_anchors": false,
   "latex_user_defs": false,
   "report_style_numbering": false,
   "user_envs_cfg": false
  }
 },
 "nbformat": 4,
 "nbformat_minor": 5
}

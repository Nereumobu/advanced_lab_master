{
 "cells": [
  {
   "cell_type": "code",
   "execution_count": 1,
   "metadata": {},
   "outputs": [],
   "source": [
    "import numpy as np\n",
    "import matplotlib.pyplot as plt\n",
    "import pandas as pd"
   ]
  },
  {
   "cell_type": "code",
   "execution_count": 2,
   "metadata": {},
   "outputs": [],
   "source": [
    "def fitted_pol(X, param, stderr=None, num=1000, useX=False):\n",
    "    if stderr is None:\n",
    "        stderr=np.zeros(len(param))\n",
    "    if not useX:\n",
    "        X=np.linspace(np.min(X), np.max(X), num)\n",
    "    Y=X*0; stdY=X*0\n",
    "    for index, coeff in enumerate(param[::-1]):\n",
    "        Y=Y+coeff*X**(index)\n",
    "        stdY=stdY+(stderr[::-1][index]*X**(index))**2\n",
    "    return X,Y, np.sqrt(stdY)\n",
    "def compute_r2(y, y_pred):\n",
    "    return 1 - np.sum((y - y_pred)**2) / np.sum((y - np.mean(y))**2)\n",
    "#Prints a value with its error in scientific notation up to its 2 decimal\n",
    "def print_scientific(value,error):\n",
    "    \"\"\"\n",
    "    value (float) : the value\n",
    "    error (float) : the error\n",
    "    \n",
    "    Returns:\n",
    "        (string) : formatted string with the value an error\n",
    "    \"\"\"\n",
    "    base10_error=int(np.floor(np.log10(error)))\n",
    "    base10_value=int(np.floor(np.log10(np.abs(value))))\n",
    "    digits=int(base10_value-base10_error+1)\n",
    "    base=10**base10_value\n",
    "    string=f\"({value/base:.{digits}f} ± {error/base:.{digits}f})·10^{base10_value}\"\n",
    "    return string"
   ]
  },
  {
   "cell_type": "code",
   "execution_count": null,
   "metadata": {},
   "outputs": [],
   "source": []
  }
 ],
 "metadata": {
  "kernelspec": {
   "display_name": "Advanced_Lab_SS23",
   "language": "python",
   "name": "python3"
  },
  "language_info": {
   "codemirror_mode": {
    "name": "ipython",
    "version": 3
   },
   "file_extension": ".py",
   "mimetype": "text/x-python",
   "name": "python",
   "nbconvert_exporter": "python",
   "pygments_lexer": "ipython3",
   "version": "3.11.4"
  },
  "orig_nbformat": 4
 },
 "nbformat": 4,
 "nbformat_minor": 2
}
